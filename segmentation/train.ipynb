{
 "cells": [
  {
   "cell_type": "markdown",
   "metadata": {},
   "source": [
    "# Train\n",
    "Simple notebook to train a fastai U-Net with the default settings for 12 fine-tuning epochs."
   ]
  },
  {
   "cell_type": "code",
   "execution_count": null,
   "metadata": {},
   "outputs": [],
   "source": [
    "from fastai.vision.all import *"
   ]
  },
  {
   "cell_type": "code",
   "execution_count": null,
   "metadata": {},
   "outputs": [],
   "source": [
    "ice_path = Path(\"../arctic_images_original_2\")\n",
    "def seginput2segmap(f): return ice_path/\"segmaps\"/f\"{f.stem}.png\"\n",
    "dls = SegmentationDataLoaders.from_label_func(\n",
    "    ice_path, get_image_files(ice_path/\"seginput\"),\n",
    "    seginput2segmap,  # Pickling doesn't like lambda expressions\n",
    "    codes = [\"water\", \"sky\", \"ice\", \"other\"],\n",
    "    bs = 8,\n",
    "    seed = 47\n",
    ")"
   ]
  },
  {
   "cell_type": "code",
   "execution_count": null,
   "metadata": {},
   "outputs": [],
   "source": [
    "learn = unet_learner(dls, resnet34, metrics=[DiceMulti])\n",
    "learn.fine_tune(12)\n",
    "learn.show_results()"
   ]
  },
  {
   "cell_type": "markdown",
   "metadata": {},
   "source": [
    "Make and save predictions for all the validation set:"
   ]
  },
  {
   "cell_type": "code",
   "execution_count": null,
   "metadata": {},
   "outputs": [],
   "source": [
    "import time\n",
    "output_path = Path(\"../inferred/basictrain\"+time.strftime(\"_%Y-%m-%dT%H-%M-%S\"))\n",
    "output_path.mkdir()\n",
    "\n",
    "def remove_whitespace():  # sheesh\n",
    "  plt.gcf().add_axes(plt.Axes(plt.gcf(), [0,0,1,1]))\n",
    "  plt.axis(\"off\")\n",
    "\n",
    "def plt_superimposed(base, mask):\n",
    "  plt.imshow(base)\n",
    "  plt.imshow(mask, alpha=0.25, cmap=\"tab20\", vmax=4)\n",
    "\n",
    "for i, (img, actual) in enumerate(dls.valid_ds):\n",
    "  pred = learn.predict(img)[0]\n",
    "\n",
    "  remove_whitespace()\n",
    "  plt.imshow(img)\n",
    "  plt.savefig(output_path/f\"orig_{i:03d}.png\")\n",
    "  \n",
    "  remove_whitespace()\n",
    "  plt_superimposed(img, actual)\n",
    "  plt.savefig(output_path/f\"true_{i:03d}.png\", bbinches=\"tight\")\n",
    "\n",
    "  remove_whitespace()\n",
    "  plt_superimposed(img, pred)\n",
    "  plt.savefig(output_path/f\"pred_{i:03d}.png\", bbinches=\"tight\")\n",
    "\n",
    "  print(f\"{i+1}/{len(dls.valid_ds)}\")\n"
   ]
  },
  {
   "cell_type": "markdown",
   "metadata": {},
   "source": [
    "Save the model itself for later use:"
   ]
  },
  {
   "cell_type": "code",
   "execution_count": null,
   "metadata": {},
   "outputs": [],
   "source": [
    "export_path = Path(\"../saved_models/export\"+time.strftime(\"_%Y-%m-%dT%H-%M-%S\")+\".pkl\")\n",
    "learn.export(export_path)"
   ]
  },
  {
   "cell_type": "markdown",
   "metadata": {},
   "source": [
    "Save the validation set so we can be sure we're getting the same one later:"
   ]
  },
  {
   "cell_type": "code",
   "execution_count": null,
   "metadata": {},
   "outputs": [],
   "source": [
    "with open(\"../saved_models/validlist\"+time.strftime(\"_%Y-%m-%dT%H-%M-%S\")+\".txt\", 'w') as validlist:\n",
    "  for f in dls.valid.items:\n",
    "    validlist.write(f.name+\"\\n\")"
   ]
  },
  {
   "cell_type": "markdown",
   "metadata": {},
   "source": [
    "## To load from saved:"
   ]
  },
  {
   "cell_type": "code",
   "execution_count": null,
   "metadata": {},
   "outputs": [],
   "source": [
    "# from fastai.vision.all import *\n",
    "\n",
    "# ice_path = Path(\"../arctic_images_original_2\")\n",
    "# def seginput2segmap(f): return ice_path/\"segmaps\"/f\"{f.stem}.png\"\n",
    "# dls = SegmentationDataLoaders.from_label_func(\n",
    "#     ice_path, get_image_files(ice_path/\"seginput\"),\n",
    "#     seginput2segmap,  # Pickling doesn't like lambda expressions\n",
    "#     codes = [\"water\", \"sky\", \"ice\", \"other\"],\n",
    "#     bs = 8,\n",
    "#     seed = 47\n",
    "# )\n",
    "# learn = load_learner(\"../saved_models/export_2022-08-01T20-46-50.pkl\")"
   ]
  }
 ],
 "metadata": {
  "kernelspec": {
   "display_name": "Python 3.10.4 ('NOAA-new4')",
   "language": "python",
   "name": "python3"
  },
  "language_info": {
   "codemirror_mode": {
    "name": "ipython",
    "version": 3
   },
   "file_extension": ".py",
   "mimetype": "text/x-python",
   "name": "python",
   "nbconvert_exporter": "python",
   "pygments_lexer": "ipython3",
   "version": "3.10.4"
  },
  "orig_nbformat": 4,
  "vscode": {
   "interpreter": {
    "hash": "14f23bc15fa2a9b8265d1e51794e99855102cbc7e23f98bc87a194261d0b0c26"
   }
  }
 },
 "nbformat": 4,
 "nbformat_minor": 2
}
