{
 "cells": [
  {
   "cell_type": "markdown",
   "metadata": {},
   "source": [
    "# Ice Versus Temperature and Salinity\n",
    "Let's compare the ML-generated ice metrics to temperature and salinity data and see if there is any relationship."
   ]
  },
  {
   "cell_type": "code",
   "execution_count": null,
   "metadata": {},
   "outputs": [],
   "source": [
    "%load_ext autoreload\n",
    "%autoreload 2"
   ]
  },
  {
   "cell_type": "code",
   "execution_count": null,
   "metadata": {},
   "outputs": [],
   "source": [
    "import numpy as np\n",
    "import pandas as pd\n",
    "import os\n",
    "\n",
    "from cv_experiments.seg2info import Seg2Info\n",
    "s2i = Seg2Info()\n",
    "import cv2\n",
    "import pickle"
   ]
  },
  {
   "cell_type": "code",
   "execution_count": null,
   "metadata": {},
   "outputs": [],
   "source": [
    "root = \"../cached/one\"\n",
    "images = [pickle.load(open(os.path.join(root, path), \"rb\")) for path in os.listdir(root) if path.endswith(\".pkl\")]"
   ]
  },
  {
   "cell_type": "code",
   "execution_count": null,
   "metadata": {},
   "outputs": [],
   "source": [
    "import pandas as pd\n",
    "\n",
    "td = pd.Timedelta(30, \"s\")  # Temperature and salinity data are in 1-minute increments\n",
    "tabulars = os.scandir(\"../tabular/temp_salinity\")\n",
    "tabulars = filter(lambda f: f.is_file() and os.path.basename(f.path)[0] != \".\" and f.path[-4:] == \".csv\", tabulars)\n",
    "csv_dict = {os.path.basename(f.path).split(\"_\")[0]:\n",
    "    pd.read_csv(f.path, skiprows=[1], parse_dates=[\"time\"]) for f in tabulars}"
   ]
  },
  {
   "cell_type": "code",
   "execution_count": null,
   "metadata": {},
   "outputs": [],
   "source": [
    "def get_temp_salinity(name):\n",
    "    boat = name.split(\"_\")[0].replace(\"-\", \"\")\n",
    "    date = pd.to_datetime(name.split(\"_\")[1], format=\"%Y-%m-%dT%H-%M-%S\", utc=True)\n",
    "    subset = csv_dict[boat]\n",
    "    subset = subset[(subset[\"time\"] >= date-td) & (subset[\"time\"] < date+td)]\n",
    "    temp = subset[\"TEMP_CTD_RBR_MEAN\"].mean()\n",
    "    salinity = subset[\"SAL_SBE37_MEAN\"].mean()\n",
    "    return temp, salinity"
   ]
  },
  {
   "cell_type": "code",
   "execution_count": null,
   "metadata": {},
   "outputs": [],
   "source": [
    "s2i.apply(get_temp_salinity, images, \"name\", [\"temp\", \"salinity\"]);"
   ]
  },
  {
   "cell_type": "code",
   "execution_count": null,
   "metadata": {},
   "outputs": [],
   "source": [
    "summary_df = pd.DataFrame({key: [image[key] for image in images] for key in (\"temp\", \"salinity\", \"closest_ice\", \"ice_amount\")})\n",
    "summary_df = summary_df[summary_df[\"temp\"].notna()]\n",
    "summary_df = summary_df[summary_df[\"salinity\"].notna()]\n",
    "display(summary_df)"
   ]
  },
  {
   "cell_type": "code",
   "execution_count": null,
   "metadata": {},
   "outputs": [],
   "source": [
    "import matplotlib.pyplot as plt\n",
    "import matplotlib.cm as cm\n",
    "import matplotlib\n",
    "import matplotlib.ticker as mtick\n",
    "\n",
    "close_thresh = s2i.cam_props[\"near_distance\"]*4\n",
    "far_df = summary_df[summary_df[\"closest_ice\"] > close_thresh]\n",
    "\n",
    "fig, ax = plt.subplots(figsize=(8, 6))\n",
    "ax.set_ylabel(\"Ice amount\")\n",
    "ax.set_xscale(\"log\")\n",
    "ax.yaxis.set_major_formatter(mtick.PercentFormatter(1))\n",
    "ax.set_xlabel(\"Distance to closest ice\")\n",
    "plt.scatter(summary_df[\"closest_ice\"], summary_df[\"ice_amount\"]);"
   ]
  },
  {
   "cell_type": "markdown",
   "metadata": {},
   "source": [
    "As expected, ice amount and distance to closest ice are negatively correlated."
   ]
  },
  {
   "cell_type": "code",
   "execution_count": null,
   "metadata": {},
   "outputs": [],
   "source": [
    "def plot_temp_salinity(fig : plt.Figure, ax : plt.Axes, temp, salinity, colorby, colorby_name, cmap = \"coolwarm\",\n",
    "    # norm=None, t_range = (-2, 11), s_range = (23.75, 34.05)):\n",
    "    norm=None, t_range = (-2, 6), s_range = (23.75, 33.05)):\n",
    "\n",
    "    if norm is None: norm = matplotlib.colors.Normalize()\n",
    "    ax.set_ylim(t_range)\n",
    "    ax.set_xlim(s_range)\n",
    "    scatter = ax.scatter(salinity, temp, c=colorby, s=8, cmap=cmap, norm=norm)\n",
    "    fig.colorbar(scatter, ax=ax, label=colorby_name)\n",
    "    ax.set_xlabel(\"Salinity\")\n",
    "    ax.set_ylabel(\"Temperature (°C)\")\n",
    "\n",
    "fig, ax = plt.subplots(figsize=(8, 6))\n",
    "plot_temp_salinity(fig, ax, summary_df[\"temp\"], summary_df[\"salinity\"],\n",
    "    summary_df[\"closest_ice\"], \"Distance to Closest Ice (m)\", norm=matplotlib.colors.LogNorm(vmax=1000))\n",
    "ax.set_title(\"Temperature vs. Salinity, Colored by Distance\");"
   ]
  },
  {
   "cell_type": "code",
   "execution_count": null,
   "metadata": {},
   "outputs": [],
   "source": [
    "fig, ax = plt.subplots(figsize=(8, 6))\n",
    "plot_temp_salinity(fig, ax, far_df[\"temp\"], far_df[\"salinity\"],\n",
    "    far_df[\"closest_ice\"], \"Distance to Closest Ice (m)\", norm=matplotlib.colors.LogNorm(vmax=1000))\n",
    "ax.set_title(\"Temp. vs. Sal., Colored by Dist. Excluding Ice Touching Boat\");"
   ]
  },
  {
   "cell_type": "code",
   "execution_count": null,
   "metadata": {},
   "outputs": [],
   "source": [
    "fig, ax = plt.subplots(figsize=(8, 6))\n",
    "plot_temp_salinity(fig, ax, summary_df[\"temp\"], summary_df[\"salinity\"],\n",
    "    summary_df[\"ice_amount\"], \"Ice Amount (out of 1)\")\n",
    "ax.set_title(\"Temperature vs. Salinity, Colored by Ice Amount\");"
   ]
  },
  {
   "cell_type": "code",
   "execution_count": null,
   "metadata": {},
   "outputs": [],
   "source": [
    "moderate_df = summary_df[(summary_df[\"ice_amount\"] > 0) & (summary_df[\"ice_amount\"] < 1)]\n",
    "fig, ax = plt.subplots(figsize=(12, 9))\n",
    "plot_temp_salinity(fig, ax, moderate_df[\"temp\"], moderate_df[\"salinity\"],\n",
    "    moderate_df[\"ice_amount\"], \"Ice Amount (out of 1)\")\n",
    "ax.set_title(\"Temperature vs. Salinity, Colored by Ice Amount (only non-extreme ice amounts)\");"
   ]
  },
  {
   "cell_type": "code",
   "execution_count": null,
   "metadata": {},
   "outputs": [],
   "source": [
    "moderate_far_df = moderate_df[moderate_df[\"closest_ice\"] > close_thresh]\n",
    "fig, ax = plt.subplots(figsize=(12, 9))\n",
    "plot_temp_salinity(fig, ax, moderate_far_df[\"temp\"], moderate_far_df[\"salinity\"],\n",
    "    moderate_far_df[\"ice_amount\"], \"Ice Amount (out of 1)\")\n",
    "ax.set_title(\"Temperature vs. Salinity, Colored by Ice Amount (non-extreme ice excluding touching)\");"
   ]
  },
  {
   "cell_type": "code",
   "execution_count": null,
   "metadata": {},
   "outputs": [],
   "source": [
    "fig, axs = plt.subplots(2, 2, figsize=(12, 9))\n",
    "axs = axs.ravel()\n",
    "\n",
    "axs[0].set_xlabel(\"closest ice\")\n",
    "axs[0].set_ylabel(\"temperature\")\n",
    "axs[0].set_xscale(\"log\")\n",
    "axs[0].scatter(summary_df[\"closest_ice\"], summary_df[\"temp\"], s=2)\n",
    "\n",
    "axs[1].set_xlabel(\"closest ice\")\n",
    "axs[1].set_ylabel(\"salinity\")\n",
    "axs[1].set_xscale(\"log\")\n",
    "axs[1].scatter(summary_df[\"closest_ice\"], summary_df[\"salinity\"], s=2)\n",
    "\n",
    "axs[2].set_xlabel(\"ice amount\")\n",
    "axs[2].set_ylabel(\"temperature\")\n",
    "axs[2].scatter(summary_df[\"ice_amount\"], summary_df[\"temp\"], s=2)\n",
    "\n",
    "axs[3].set_xlabel(\"ice amount\")\n",
    "axs[3].set_ylabel(\"salinity\")\n",
    "axs[3].scatter(summary_df[\"ice_amount\"], summary_df[\"salinity\"], s=2)"
   ]
  },
  {
   "cell_type": "markdown",
   "metadata": {},
   "source": [
    "No relationships to speak of between temperature and ice presence or between salinity and ice presence."
   ]
  }
 ],
 "metadata": {
  "kernelspec": {
   "display_name": "Python 3.10.4 ('NOAA-new4')",
   "language": "python",
   "name": "python3"
  },
  "language_info": {
   "codemirror_mode": {
    "name": "ipython",
    "version": 3
   },
   "file_extension": ".py",
   "mimetype": "text/x-python",
   "name": "python",
   "nbconvert_exporter": "python",
   "pygments_lexer": "ipython3",
   "version": "3.10.4"
  },
  "orig_nbformat": 4,
  "vscode": {
   "interpreter": {
    "hash": "14f23bc15fa2a9b8265d1e51794e99855102cbc7e23f98bc87a194261d0b0c26"
   }
  }
 },
 "nbformat": 4,
 "nbformat_minor": 2
}
