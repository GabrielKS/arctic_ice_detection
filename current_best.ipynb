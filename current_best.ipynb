{
 "cells": [
  {
   "cell_type": "code",
   "execution_count": null,
   "metadata": {},
   "outputs": [],
   "source": [
    "%load_ext autoreload\n",
    "%autoreload 2"
   ]
  },
  {
   "cell_type": "code",
   "execution_count": null,
   "metadata": {},
   "outputs": [],
   "source": [
    "import get_data\n",
    "import preprocess\n",
    "import base_models\n",
    "from base_models import load_base_modeled\n",
    "from top_level_evaluation import evaluate_hyperparameters\n",
    "import learner\n",
    "\n",
    "import tensorflow as tf"
   ]
  },
  {
   "cell_type": "code",
   "execution_count": null,
   "metadata": {},
   "outputs": [],
   "source": [
    "model_label = base_models.vgg16_label\n",
    "train_ds = load_base_modeled(model_label, get_data.train_label)\n",
    "valid_ds = load_base_modeled(model_label, get_data.valid_label)\n",
    "test_ds = load_base_modeled(model_label, get_data.test_label)\n",
    "data = (train_ds, valid_ds, test_ds)\n",
    "spe = int(tf.data.experimental.cardinality(train_ds).numpy()/preprocess.augmentation_reps)"
   ]
  },
  {
   "cell_type": "code",
   "execution_count": null,
   "metadata": {},
   "outputs": [],
   "source": [
    "print(tf.data.experimental.cardinality(train_ds).numpy())\n",
    "train_ds.element_spec[0].shape[1:]"
   ]
  },
  {
   "cell_type": "code",
   "execution_count": null,
   "metadata": {},
   "outputs": [],
   "source": [
    "history1, results1 = evaluate_hyperparameters(learner.original_addon, data, 30, None, spe, n_samples=1, print_samples=True, verbose=\"auto\")"
   ]
  },
  {
   "cell_type": "code",
   "execution_count": null,
   "metadata": {},
   "outputs": [],
   "source": [
    "# evaluate_hyperparameters(learner.original_addon, data, 200, None, spe, n_samples=3, print_samples=True, verbose=\"auto\")"
   ]
  },
  {
   "cell_type": "code",
   "execution_count": null,
   "metadata": {},
   "outputs": [],
   "source": []
  }
 ],
 "metadata": {
  "interpreter": {
   "hash": "c89208a319734647c21f9b42b63efd0eab8dd7529171cd12ac3e06dee0f92754"
  },
  "kernelspec": {
   "display_name": "Python 3.10.4 ('NOAA-new3')",
   "language": "python",
   "name": "python3"
  },
  "language_info": {
   "codemirror_mode": {
    "name": "ipython",
    "version": 3
   },
   "file_extension": ".py",
   "mimetype": "text/x-python",
   "name": "python",
   "nbconvert_exporter": "python",
   "pygments_lexer": "ipython3",
   "version": "3.10.4"
  },
  "orig_nbformat": 4
 },
 "nbformat": 4,
 "nbformat_minor": 2
}
