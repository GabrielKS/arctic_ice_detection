{
 "cells": [
  {
   "cell_type": "markdown",
   "metadata": {},
   "source": [
    "# Segmentation to Information: Edge Cases\n",
    "Devoted to investigating and patching incorrect edge case behavior in `seg2info.py`"
   ]
  },
  {
   "cell_type": "code",
   "execution_count": null,
   "metadata": {},
   "outputs": [],
   "source": [
    "%load_ext autoreload\n",
    "%autoreload 2"
   ]
  },
  {
   "cell_type": "markdown",
   "metadata": {},
   "source": [
    "## `other` on horizon\n",
    "The current algorithm for detecting the boundary between sky and water/ice is currently implemented as detecting the boundary between anything that isn't water/ice and water/ice. However, what if there is a water drop on the lens obscuring the horizon? The algorithm would count the `other` of the water drop as sky, making the boundary bend down around the horizon and ultimately messing up the line of best fit. Let's subclass `Seg2Info`, reproduce the existing algorithm in here so it persists once we implement a fix, and demonstrate the problem."
   ]
  },
  {
   "cell_type": "code",
   "execution_count": null,
   "metadata": {},
   "outputs": [],
   "source": [
    "from cv_experiments.seg2info import Seg2Info\n",
    "import numpy as np\n",
    "import cv2\n",
    "import matplotlib.pyplot as plt"
   ]
  },
  {
   "cell_type": "code",
   "execution_count": null,
   "metadata": {},
   "outputs": [],
   "source": [
    "class Seg2Info_OldSkyEdge(Seg2Info):\n",
    "    def sky_edge(self, img):  # Copypasted from Seg2Info before planned fix\n",
    "        \"\"\"Find the sky edge by searching down each column for the transition from no water/ice to some water/ice.\\\n",
    "            Do this with a bunch of different samples, throw out the bad ones if possible, and average\n",
    "        \"\"\"\n",
    "        oceanness = np.max([img[:,:,self.proc_props[\"four_values\"].index(\"water\")], img[:,:,self.proc_props[\"four_values\"].index(\"ice\")]], axis=0)\n",
    "        # Enforce monotonicity (took me a while to realize the lack of this was causing problems...)\n",
    "        oceanness = np.maximum.accumulate(oceanness, axis=0)\n",
    "\n",
    "        samples = np.stack([np.apply_along_axis(np.searchsorted, 0, oceanness, x, side=\"right\")\n",
    "            for x in self.proc_props[\"transition_sample_locs\"]], axis=-1)\n",
    "        filtered_samples = np.where(((samples > 0) & (samples < img.shape[0])), samples, np.nan)\n",
    "        result = np.mean(filtered_samples, axis=-1)\n",
    "        return np.where(np.isnan(result), np.min(samples, axis=-1), result)\n",
    "s2i_oldsky = Seg2Info_OldSkyEdge()"
   ]
  },
  {
   "cell_type": "code",
   "execution_count": null,
   "metadata": {},
   "outputs": [],
   "source": [
    "raindrop = {\"name\": \"simple_horizon_raindrop\",\n",
    "    \"seginput\": cv2.imread(\"../representatives/byname/simple_horizon_raindrop_seginput.jpg\"),\n",
    "    \"segmap\": cv2.imread(\"../representatives/byname/simple_horizon_raindrop_segmap.png\", cv2.IMREAD_GRAYSCALE)}\n",
    "fig, axs = plt.subplots(2, 3, figsize=(20, 10))\n",
    "axs = axs.ravel()\n",
    "axs[0].imshow(raindrop[\"seginput\"])\n",
    "s2i_oldsky.simple_composite(axs[1], raindrop, title=raindrop[\"name\"])\n",
    "s2i_oldsky.plot_mask(axs[2], raindrop, title=raindrop[\"name\"])\n",
    "\n",
    "img = s2i_oldsky.one_hot_four(raindrop[\"segmap\"])\n",
    "img = s2i_oldsky.upscale(img)\n",
    "img = s2i_oldsky.undistort(img)\n",
    "detected = s2i_oldsky.sky_edge(img)\n",
    "s2i_oldsky.plot_mask(axs[3], {\"segmap\": img}, title=\"Detected sky edge (old algorithm)\")\n",
    "axs[3].scatter(np.arange(img.shape[1]), detected, color=\"yellow\", s=8)\n",
    "\n",
    "horizon = s2i_oldsky.find_horizon(img)\n",
    "s2i_oldsky.plot_line(axs[4], {\"segmap\": img, \"line\": horizon}, title=\"Inferred horizon (old algorithm)\")\n",
    "\n",
    "axs[5].set_xlim(0, 1)\n",
    "axs[5].set_ylim(0, 1)\n",
    "axs[5].text(0.5, 0.5, \":(\", {\"fontsize\": 100, \"ha\": \"center\", \"va\": \"center\"});"
   ]
  },
  {
   "cell_type": "markdown",
   "metadata": {},
   "source": [
    "As expected. (The detected edge doesn't perfectly track the edge of the drop because of the \"enforce monotonicity\" step.)"
   ]
  },
  {
   "cell_type": "markdown",
   "metadata": {},
   "source": [
    "Now, a fix. Our four-value representation still differentiates between `sky` and `rest`. In cases where `rest` isn't getting in the way, there is a transition between `sky` and [`water` or `ice`], and we aim to detect it. In cases where `rest` _is_ getting in the way, there are zero such transitions. Let's detect these cases and just not detect anything for those columns. As long as we still have enough unobscured horizon, the line of best fit should still work.\n",
    "\n",
    "Implementation: currently, we more or less treat `rest` the same as `sky`. That means we don't have to worry about detecting blobs of `rest` completely surrounded by sky. Also, we don't have to worry about blobs of `rest` completely surrounded by ocean, as by the time we get to ocean we will have already detected a horizon -- the monotonicity enforcement will remove such blobs. The only blobs of `rest` we need to worry about are those that have `sky` above them and [`water` or `ice`] below them. An entire column should be invalidated iff this occurs. Thus, we can do our normal search with the various thresholds, then, before we average the results together, invalidate each result if the pixel just above is `rest`. "
   ]
  },
  {
   "cell_type": "code",
   "execution_count": null,
   "metadata": {},
   "outputs": [],
   "source": [
    "class Seg2Info_NewSkyEdge(Seg2Info):\n",
    "    def sky_edge(self, img, rest_thresh=0.5):\n",
    "        \"\"\"Find the sky edge by searching down each column for the transition from no water/ice to some water/ice.\\\n",
    "            Do this with a bunch of different samples, throw out the bad ones if possible, and average\n",
    "        \"\"\"\n",
    "        oceanness = np.max([img[:,:,self.proc_props[\"four_values\"].index(\"water\")], img[:,:,self.proc_props[\"four_values\"].index(\"ice\")]], axis=0)\n",
    "        # Enforce monotonicity (took me a while to realize the lack of this was causing problems...)\n",
    "        oceanness = np.maximum.accumulate(oceanness, axis=0)\n",
    "        isrest = img[:,:,self.proc_props[\"four_values\"].index(\"rest\")] > rest_thresh\n",
    "\n",
    "        samples = np.stack([np.apply_along_axis(np.searchsorted, 0, oceanness, x, side=\"right\")\n",
    "            for x in self.proc_props[\"transition_sample_locs\"]], axis=-1)\n",
    "        # If the pixel immediately above us is `rest`, we haven't actually found anything\n",
    "        y = np.clip(samples.T-self.proc_props[\"upscale_factor\"], 0, None)\n",
    "        samples = np.where(~isrest[y, np.arange(img.shape[1])].T, samples, np.nan)\n",
    "        # If we hit a bounds, we haven't actually found anything\n",
    "        filtered_samples = np.where(((samples > 0) & (samples < img.shape[0])), samples, np.nan)\n",
    "        result = np.mean(filtered_samples, axis=-1)\n",
    "        # Report np.nan if anything is bordering `rest`; report the bounds if anything is out of bounds\n",
    "        return np.where(np.isnan(result), np.min(samples, axis=-1), result)\n",
    "    \n",
    "    # We need to filter out NaNs before passing to fit\n",
    "    def find_horizon(self, img):\n",
    "        \"\"\"Find a horizon as the line of best fit of the sky_edge\"\"\"\n",
    "        width = img.shape[1]\n",
    "        x = np.arange(width)-width//2\n",
    "        y = self.sky_edge(img)\n",
    "        valids = ~np.isnan(x) & ~np.isnan(y)\n",
    "        return np.polynomial.Polynomial.fit(x[valids], y[valids], 1).convert()\n",
    "\n",
    "s2i_newsky1 = Seg2Info_NewSkyEdge()\n",
    "detected = s2i_newsky1.sky_edge(img)\n",
    "s2i_newsky1.plot_mask(plt.gca(), {\"segmap\": img}, title=\"Detected sky edge (new algorithm)\")\n",
    "plt.gca().scatter(np.arange(img.shape[1]), detected, color=\"yellow\", s=8)\n",
    "plt.show()\n",
    "horizon = s2i_newsky1.find_horizon(img)\n",
    "s2i_newsky1.plot_line(plt.gca(), {\"segmap\": img, \"line\": horizon}, title=\"Inferred horizon (new algorithm)\")"
   ]
  },
  {
   "cell_type": "markdown",
   "metadata": {},
   "source": [
    "Success!"
   ]
  },
  {
   "cell_type": "markdown",
   "metadata": {},
   "source": [
    "One complication: we use `sky_edge` a second time, to detect and adjust for minor deviations from the line of best fit after rotation. One option would be to just not adjust the columns in which we cannot detect a sky edge. Another would be to do some interpolation to fabricate a sky edge. The second option seems more appealing, but what if the missing data is on the edge of the image? Then we don't have two sides to interpolate between. In these cases, we could just pick the value from the edge we do know and keep it constant. Or we could pick a delta of `0` for the other side. Let's do the latter. We'll work with a fabricated version of this segmap that has a bit more variation to adjust for:"
   ]
  },
  {
   "cell_type": "code",
   "execution_count": null,
   "metadata": {},
   "outputs": [],
   "source": [
    "fabricated = {\"name\": \"fabricated_horizon\",\n",
    "    \"seginput\": cv2.imread(\"../representatives/byname/fabricated_rest_adjustment.jpg\"),\n",
    "    \"segmap\": cv2.imread(\"../representatives/byname/fabricated_rest_adjustment.png\", cv2.IMREAD_GRAYSCALE)}\n",
    "img = s2i_newsky1.one_hot_four(fabricated[\"segmap\"])\n",
    "img = s2i_newsky1.upscale(img)\n",
    "img = s2i_newsky1.undistort(img)\n",
    "detected = s2i_newsky1.sky_edge(img)\n",
    "horizon = s2i_newsky1.find_horizon(img)\n",
    "s2i_newsky1.plot_line(plt.gca(), {\"segmap\": img, \"line\": horizon}, title=\"Fabricated horizon with line of best fit\")\n",
    "plt.gca().scatter(np.arange(img.shape[1]), detected, color=\"yellow\", s=8)\n",
    "plt.plot();"
   ]
  },
  {
   "cell_type": "code",
   "execution_count": null,
   "metadata": {},
   "outputs": [],
   "source": [
    "import pandas as pd\n",
    "class Seg2Info_SkyEdgeInterpolation(Seg2Info_NewSkyEdge):\n",
    "    @staticmethod\n",
    "    def interpolate_sky_edge(edge, line):\n",
    "        padded = np.zeros(len(edge)+2, dtype=edge.dtype)\n",
    "        intercept, slope = line\n",
    "        padded[1:-1] = edge\n",
    "        padded[0] = -slope*len(edge)/2+intercept\n",
    "        padded[-1] = slope*len(edge)/2+intercept\n",
    "        interpolated = pd.Series(padded).interpolate()\n",
    "        return interpolated.to_numpy()[1:-1]\n",
    "    \n",
    "    # Identical to original except added interpolation line\n",
    "    def adjust_and_crop(self, img, line, height, interpolation_method=cv2.INTER_LINEAR):\n",
    "        \"\"\"After an image has been rotated so the horizon is roughly horizontal, this translates\\\n",
    "            each column of pixels to make the horizon perfectly flat, then moves the horizon so it is\\\n",
    "            buffer_px away from the top of the image\n",
    "        \"\"\"\n",
    "\n",
    "        buffer_px = self.proc_props[\"upscale_factor\"]*self.proc_props[\"sky_buffer\"]\n",
    "        intercept,_ = line\n",
    "        intercept = int(intercept)\n",
    "        # Search search_range pixels up and down of the intercept for the [ice and water] to sky edge\n",
    "        search_range = int(0.05*height)\n",
    "        new_edge = self.sky_edge(img[(intercept-search_range):(intercept+search_range), :])+(intercept-search_range)\n",
    "        new_edge = self.interpolate_sky_edge(new_edge, line)\n",
    "        delta = buffer_px-new_edge\n",
    "        orig_height, width = img.shape[:2]\n",
    "        mapx = np.tile(np.arange(width), (orig_height, 1))\n",
    "        mapy = np.tile(np.arange(orig_height), (width, 1)).T\n",
    "        translated = cv2.remap(img, mapx.astype(np.float32), (mapy-delta).astype(np.float32),\n",
    "            interpolation_method, borderValue=self.proc_props[\"rest_value\"])\n",
    "        new_height = width+buffer_px\n",
    "        return translated[:new_height,:]\n",
    "\n",
    "s2i_newsky2 = Seg2Info_SkyEdgeInterpolation()\n",
    "detected_interp = s2i_newsky2.interpolate_sky_edge(detected, horizon)\n",
    "s2i_newsky2.plot_line(plt.gca(), {\"segmap\": img, \"line\": horizon}, title=\"Same line, points are now interpolated\")\n",
    "plt.gca().scatter(np.arange(img.shape[1]), detected_interp, color=\"yellow\", s=8)\n",
    "plt.show()\n",
    "\n",
    "rot, scale, height = s2i_newsky2.rotate_image(img, horizon)\n",
    "adj = s2i_newsky2.adjust_and_crop(rot, horizon, height)\n",
    "s2i_newsky2.plot_mask(plt.gca(), {\"segmap\": adj}, title=\"Adjusted with interpolation\")\n"
   ]
  },
  {
   "cell_type": "markdown",
   "metadata": {},
   "source": [
    "Looks good! Now we'll paste these improvements back into the original class and make sure everything still works:"
   ]
  },
  {
   "cell_type": "code",
   "execution_count": null,
   "metadata": {},
   "outputs": [],
   "source": [
    "s2i_final = Seg2Info()\n",
    "s2i_final.plot_log_polar(plt.gca(), {\"logpolar\": s2i_final.apply(s2i_final.whole_pipeline, [fabricated], \"segmap\")[0]}, title=\"Logpolar with finalized fix\")"
   ]
  },
  {
   "cell_type": "markdown",
   "metadata": {},
   "source": [
    "Excellent."
   ]
  }
 ],
 "metadata": {
  "kernelspec": {
   "display_name": "Python 3.10.4 ('NOAA-new4')",
   "language": "python",
   "name": "python3"
  },
  "language_info": {
   "codemirror_mode": {
    "name": "ipython",
    "version": 3
   },
   "file_extension": ".py",
   "mimetype": "text/x-python",
   "name": "python",
   "nbconvert_exporter": "python",
   "pygments_lexer": "ipython3",
   "version": "3.10.4"
  },
  "orig_nbformat": 4,
  "vscode": {
   "interpreter": {
    "hash": "14f23bc15fa2a9b8265d1e51794e99855102cbc7e23f98bc87a194261d0b0c26"
   }
  }
 },
 "nbformat": 4,
 "nbformat_minor": 2
}
