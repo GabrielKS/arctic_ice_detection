{
 "cells": [
  {
   "cell_type": "markdown",
   "metadata": {},
   "source": [
    "# Summary Stats\n",
    "How best to summarize an ice situation in one number?"
   ]
  },
  {
   "cell_type": "markdown",
   "metadata": {},
   "source": [
    "Brainstorming:\n",
    " * Distance to closest ice (perhaps with a minimum threshold so we aren't influenced by camera angle)\n",
    " * Distance to farthest ice\n",
    " * Percent of frame that is ice, pre-transformation (probably not good because the camera moves all over the place)\n",
    " * Percent of ice+water that is ice, pre-transformation (better but still somewhat sensitive to camera movement)\n",
    " * Percent of real-space ocean coverage that is ice (same problem plus would be overstating our confidence in ice coverage at the horizon)\n",
    " * Percent of log-polar map that is ice (same problem)\n",
    " * One of the last three but for a subset of the space that is visible in ~all images (e.g., horizon to 0.25*original height down from the horizon, middle half of the horizontal range)\n",
    "\n",
    "In the interest of time, let's try out\n",
    " 1. Distance to closest significant ice\n",
    " 2. Percent of ice+water within a standard subset that is ice, pre-transformation"
   ]
  },
  {
   "cell_type": "markdown",
   "metadata": {},
   "source": [
    "We'll use the usual test images:"
   ]
  },
  {
   "cell_type": "code",
   "execution_count": null,
   "metadata": {},
   "outputs": [],
   "source": [
    "from cv_experiments.seg2info import Seg2Info\n",
    "s2i = Seg2Info()\n",
    "import cv2\n",
    "\n",
    "def relevant_details(img, interpolation_method=cv2.INTER_CUBIC):\n",
    "    img = s2i.one_hot_four(img)\n",
    "    img = s2i.upscale(img)\n",
    "    img = s2i.undistort(img)\n",
    "    horizon = s2i.find_horizon(img)\n",
    "    img, scale, height = s2i.rotate_image(img, horizon)\n",
    "    img = s2i.adjust_and_crop(img, horizon, height, interpolation_method=interpolation_method)\n",
    "    img = s2i.horizon_blur(img)\n",
    "    lp_img = s2i.camera_to_log_polar(img, scale, height, interpolation_method=interpolation_method)\n",
    "    lp_img = s2i.four_to_one(lp_img)\n",
    "    return scale, height, img, lp_img"
   ]
  },
  {
   "cell_type": "code",
   "execution_count": null,
   "metadata": {},
   "outputs": [],
   "source": [
    "images = s2i.load_dirs(\"../representatives/segmentation/seginput\", \"../arctic_images_original_2/segmaps\")\n",
    "s2i.apply(relevant_details, images, \"segmap\", [\"scale\", \"height\", \"adjusted\", \"logpolar\"])\n",
    "\n",
    "s2i.plot_all(images, s2i.simple_composite, lambda fig: fig.subplots_adjust(hspace=-0.5))\n",
    "s2i.plot_key(images, \"adjusted\")\n",
    "s2i.plot_all(images, s2i.plot_log_polar, lambda fig: fig.subplots_adjust(hspace=-0.5, wspace=0.4))"
   ]
  },
  {
   "cell_type": "markdown",
   "metadata": {},
   "source": [
    "## Distance to closest significant ice"
   ]
  },
  {
   "cell_type": "code",
   "execution_count": null,
   "metadata": {},
   "outputs": [],
   "source": [
    "import numpy as np\n",
    "def closest_ice(logpolar_plot, ice_thresh=0.1, nan_thresh=0.1, close_thresh=None):\n",
    "    if close_thresh is None: close_thresh = s2i.cam_props[\"near_distance\"]*4\n",
    "    num = np.nansum(logpolar_plot, axis=1)\n",
    "    n_nonnan = (~np.isnan(logpolar_plot)).sum(axis=1)\n",
    "    frac_ice = np.where(n_nonnan/logpolar_plot.shape[1] > nan_thresh, np.divide(num, n_nonnan, where=(n_nonnan != 0)), np.nan)\n",
    "    is_ice = frac_ice > ice_thresh\n",
    "    i_last = -np.Inf if np.max(is_ice) == False else logpolar_plot.shape[0]-np.argmax(is_ice[::-1])-1\n",
    "    dist_last = s2i.y2dist(i_last)\n",
    "    return np.clip(dist_last, close_thresh, None)\n",
    "\n",
    "print(s2i.apply(closest_ice, images, \"logpolar\", \"closest_ice\"))"
   ]
  },
  {
   "cell_type": "code",
   "execution_count": null,
   "metadata": {},
   "outputs": [],
   "source": [
    "s2i.plot_all(images, lambda ax,image: s2i.plot_log_polar(ax, image, title=f\"Closest ice: {image['closest_ice']:.2f} m\"), lambda fig: fig.subplots_adjust(hspace=-0.5, wspace=0.4))"
   ]
  },
  {
   "cell_type": "markdown",
   "metadata": {},
   "source": [
    "Looks good."
   ]
  },
  {
   "cell_type": "markdown",
   "metadata": {},
   "source": [
    "## Percent of ice+water within a standard subset that is ice, pre-transformation"
   ]
  },
  {
   "cell_type": "code",
   "execution_count": null,
   "metadata": {},
   "outputs": [],
   "source": [
    "def ice_amount(adjusted, scale, height, window_width_frac=0.5, window_height_frac=0.25):\n",
    "    window_width_px = window_width_frac*adjusted.shape[1]*scale\n",
    "    top = s2i.proc_props[\"sky_buffer\"]*s2i.proc_props[\"upscale_factor\"]\n",
    "    bottom = int(top+window_height_frac*height*scale)\n",
    "    left = int(adjusted.shape[1]/2-window_width_px/2)\n",
    "    right = int(adjusted.shape[1]/2+window_width_px/2)\n",
    "    subset = s2i.four_to_one(adjusted[top:bottom, left:right])\n",
    "\n",
    "    n_nonnan = (~np.isnan(subset)).sum()  # Exclude invalid data from the denominator\n",
    "    n_ice = np.nansum(subset)  # Each pixel is iciness from 0 to 1, so we can get total ice in pixels simply by summing\n",
    "    return n_ice/n_nonnan\n",
    "\n",
    "print(s2i.apply(ice_amount, images, [\"adjusted\", \"scale\", \"height\"], \"ice_amount\"))"
   ]
  },
  {
   "cell_type": "code",
   "execution_count": null,
   "metadata": {},
   "outputs": [],
   "source": [
    "s2i.plot_all(images, lambda ax,image: s2i.plot_mask(ax, image, map_key=\"adjusted\", title=f\"Ice amount: {image['ice_amount']:.0%}\"))"
   ]
  },
  {
   "cell_type": "markdown",
   "metadata": {},
   "source": [
    "Excellent.\n",
    "## Meta-summary\n",
    "The meta-summary with the typical images:"
   ]
  },
  {
   "cell_type": "code",
   "execution_count": null,
   "metadata": {},
   "outputs": [],
   "source": [
    "meta_summary_title = lambda image: f\"{image['ice_amount']:.0%} ice, closest at {image['closest_ice']:.2f} m\"\n",
    "s2i.plot_all(images, lambda ax, image: s2i.simple_composite(ax, image, title=meta_summary_title(image)), lambda fig: fig.subplots_adjust(hspace=-0.5))"
   ]
  },
  {
   "cell_type": "markdown",
   "metadata": {},
   "source": [
    "A scatter plot with all the manually labeled images containing ice:"
   ]
  },
  {
   "cell_type": "code",
   "execution_count": null,
   "metadata": {},
   "outputs": [],
   "source": [
    "import os\n",
    "icy_set = set(os.path.basename(f) for f in os.listdir(\"../arctic_images_original_2/ice\"))\n",
    "images2 = s2i.load_dirs(\"../arctic_images_original_2/seginput\", \"../arctic_images_original_2/segmaps\", filter_fn=lambda f: f in icy_set)\n",
    "s2i.apply(relevant_details, images2, \"segmap\", [\"scale\", \"height\", \"adjusted\", \"logpolar\"]);"
   ]
  },
  {
   "cell_type": "code",
   "execution_count": null,
   "metadata": {},
   "outputs": [],
   "source": [
    "closests = np.array(s2i.apply(closest_ice, images2, \"logpolar\", \"closest_ice\"))\n",
    "amounts = np.array(s2i.apply(ice_amount, images2, [\"adjusted\", \"scale\", \"height\"], \"ice_amount\"))"
   ]
  },
  {
   "cell_type": "code",
   "execution_count": null,
   "metadata": {},
   "outputs": [],
   "source": [
    "import matplotlib.pyplot as plt\n",
    "import matplotlib.ticker as mtick\n",
    "plt.gca().set_xscale(\"log\")\n",
    "plt.gca().yaxis.set_major_formatter(mtick.PercentFormatter())\n",
    "plt.gca().set_ylabel(\"Ice amount\")\n",
    "plt.gca().set_xlabel(\"Distance to closest ice\")\n",
    "plt.scatter(closests, amounts);"
   ]
  },
  {
   "cell_type": "markdown",
   "metadata": {},
   "source": [
    "Filtering out extremes, we get this interesting pattern:"
   ]
  },
  {
   "cell_type": "code",
   "execution_count": null,
   "metadata": {},
   "outputs": [],
   "source": [
    "mask = (closests > s2i.cam_props[\"near_distance\"]*4) & (closests < 1000)\n",
    "plt.gca().yaxis.set_major_formatter(mtick.PercentFormatter())\n",
    "plt.gca().set_ylabel(\"Ice amount\")\n",
    "plt.gca().set_xlabel(\"Distance to closest ice\")\n",
    "plt.scatter(closests[mask], amounts[mask]);"
   ]
  }
 ],
 "metadata": {
  "kernelspec": {
   "display_name": "Python 3.10.4 ('NOAA-new4')",
   "language": "python",
   "name": "python3"
  },
  "language_info": {
   "codemirror_mode": {
    "name": "ipython",
    "version": 3
   },
   "file_extension": ".py",
   "mimetype": "text/x-python",
   "name": "python",
   "nbconvert_exporter": "python",
   "pygments_lexer": "ipython3",
   "version": "3.10.4"
  },
  "orig_nbformat": 4,
  "vscode": {
   "interpreter": {
    "hash": "14f23bc15fa2a9b8265d1e51794e99855102cbc7e23f98bc87a194261d0b0c26"
   }
  }
 },
 "nbformat": 4,
 "nbformat_minor": 2
}
