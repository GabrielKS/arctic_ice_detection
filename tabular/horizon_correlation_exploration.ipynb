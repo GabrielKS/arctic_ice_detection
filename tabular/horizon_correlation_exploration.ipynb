{
 "cells": [
  {
   "cell_type": "code",
   "execution_count": null,
   "metadata": {},
   "outputs": [],
   "source": [
    "%load_ext autoreload\n",
    "%autoreload 2"
   ]
  },
  {
   "cell_type": "code",
   "execution_count": null,
   "metadata": {},
   "outputs": [],
   "source": [
    "import os\n",
    "import xarray as xr\n",
    "from datetime import datetime\n",
    "import cv2\n",
    "import tabular.subset_by_images\n",
    "import matplotlib.pyplot as plt\n",
    "import cv_experiments.cv_common as cc\n",
    "import numpy as np\n",
    "import pandas as pd"
   ]
  },
  {
   "cell_type": "code",
   "execution_count": null,
   "metadata": {},
   "outputs": [],
   "source": [
    "%matplotlib inline"
   ]
  },
  {
   "cell_type": "code",
   "execution_count": null,
   "metadata": {},
   "outputs": [],
   "source": [
    "image_to_boat = lambda fname: os.path.basename(fname).split('_')[0].split('-')[1]\n",
    "image_to_datetime = lambda fname: np.datetime64(tabular.subset_by_images.image_to_datetime(fname))\n",
    "image_to_camera = lambda fname: os.path.splitext(os.path.basename(fname))[0].split('_')[2].split('-')[1]"
   ]
  },
  {
   "cell_type": "code",
   "execution_count": null,
   "metadata": {},
   "outputs": [],
   "source": [
    "def pr2line(pr, shape):\n",
    "    pitch_slope,roll_slope = pr\n",
    "    height,width = shape[:2]\n",
    "    y0 = height*(0.5-pitch_slope)\n",
    "    yoffset = -roll_slope*width/2\n",
    "    return (0, int(y0-yoffset)), (width, int(y0+yoffset))\n",
    "\n",
    "def show_images(images):\n",
    "    for row in images:\n",
    "        lat, lon = None, None\n",
    "        if \"dataframe\" in row:\n",
    "            lat, lon = row[\"dataframe\"][[\"latitude\", \"longitude\"]].mean()\n",
    "        print(f\"{row['boat']} at {pd.to_datetime(row['datetime']):%Y-%m-%d %H:%M:%S}, {f'lat={lat:.3f}, lon={lon:.3f}, ' if lat and lon else ''}camera {row['camera']}:\")\n",
    "        if \"msg\" in row: print(row[\"msg\"])\n",
    "        img = cv2.cvtColor(row[\"mat\"], cv2.COLOR_GRAY2RGB)\n",
    "        if \"horizon_inferred\" in row:\n",
    "            c1,c2 = pr2line(row[\"horizon_inferred\"], img.shape)\n",
    "            cv2.line(img, c1, c2, (0, 0, 255), 3, cv2.LINE_AA)\n",
    "        if \"horizon_manual\" in row:\n",
    "            c1,c2 = pr2line(row[\"horizon_manual\"], img.shape)\n",
    "            cv2.line(img, c1, c2, (255, 0, 0), 3, cv2.LINE_AA)\n",
    "        plt.imshow(img, vmin=0, vmax=255)\n",
    "        plt.show()"
   ]
  },
  {
   "cell_type": "code",
   "execution_count": null,
   "metadata": {},
   "outputs": [],
   "source": [
    "image_paths = sorted(f.path for f in os.scandir(\"../representatives/correlation/\") if f.is_file() and os.path.basename(f.path)[0] != '.')\n",
    "images = [{\"boat\": image_to_boat(path), \"datetime\": image_to_datetime(path), \"camera\": image_to_camera(path), \"mat\": cv2.imread(path, 0)} for path in image_paths]\n",
    "show_images(images)"
   ]
  },
  {
   "cell_type": "code",
   "execution_count": null,
   "metadata": {},
   "outputs": [],
   "source": [
    "for row in images: row[\"mat\"] = cc.undistort(row[\"mat\"], \"large\" if row[\"mat\"].shape[0] > 1000 else \"small\")\n",
    "show_images(images)"
   ]
  },
  {
   "cell_type": "code",
   "execution_count": null,
   "metadata": {},
   "outputs": [],
   "source": [
    "# Tuned by hand; will break if the input file list is changed\n",
    "manual_horizons = [(-0.110, -0.078), (0.100, 0.088), (0.010, -0.135), (0.127, 0.269)]\n",
    "for row, horiz in zip(images, manual_horizons): row[\"horizon_manual\"] = horiz\n",
    "show_images(images)"
   ]
  },
  {
   "cell_type": "code",
   "execution_count": null,
   "metadata": {},
   "outputs": [],
   "source": [
    "excerpt_to_boat = lambda fname: os.path.splitext(os.path.basename(fname))[0].split('_')[1]\n",
    "excerpt_paths = sorted(f.path for f in os.scandir(\"../tabular/excerpts\") if f.is_file() and os.path.basename(f.path)[0] != '.')\n",
    "excerpts = {excerpt_to_boat(fname): xr.load_dataset(fname) for fname in excerpt_paths}"
   ]
  },
  {
   "cell_type": "code",
   "execution_count": null,
   "metadata": {},
   "outputs": [],
   "source": [
    "time_threshold = np.timedelta64(10, \"s\")\n",
    "for row in images:\n",
    "    row[\"tabular\"] = excerpts[row[\"boat\"]].sel(time=slice(row[\"datetime\"]-time_threshold, row[\"datetime\"]+time_threshold))\n",
    "print(list(excerpts[images[0][\"boat\"]].variables))"
   ]
  },
  {
   "cell_type": "code",
   "execution_count": null,
   "metadata": {},
   "outputs": [],
   "source": [
    "relevant_variables = [\"ROLL\", \"PITCH\", \"HDG\", \"ROLL_WING\", \"PITCH_WING\", \"HDG_WING\", \"WING_ANGLE\", \"latitude\", \"longitude\"]\n",
    "for row in images:\n",
    "    row[\"dataframe\"] = row[\"tabular\"].to_dataframe()[relevant_variables]"
   ]
  },
  {
   "cell_type": "code",
   "execution_count": null,
   "metadata": {},
   "outputs": [],
   "source": [
    "def pr_offset_heading(pitch, roll, heading_offset):  # Takes and gives all values in degrees!\n",
    "    atan, cos, sin, tan, deg, rad = np.arctan, np.cos, np.sin, np.tan, np.degrees, np.radians\n",
    "    new_pitch = deg(atan(cos(rad(heading_offset))*tan(rad(pitch)) - sin(rad(heading_offset))*tan(rad(roll))))\n",
    "    new_roll  = deg(atan(cos(rad(heading_offset))*tan(rad(roll))  + sin(rad(heading_offset))*tan(rad(pitch))))\n",
    "    return new_pitch, new_roll\n",
    "\n",
    "def pr_offset_camera(pitch, roll, camera):\n",
    "    if camera == \"2\": return pr_offset_heading(pitch, roll, 90)\n",
    "    if camera == \"3\": return pr_offset_heading(pitch, roll, -90)"
   ]
  },
  {
   "cell_type": "code",
   "execution_count": null,
   "metadata": {},
   "outputs": [],
   "source": [
    "fov = {(\"h\", \"small\"): 98,\n",
    "       (\"v\", \"small\"): 54.5,\n",
    "       (\"h\", \"large\"): 103,\n",
    "       (\"v\", \"large\"): 57.5}\n",
    "\n",
    "threshold_before = np.timedelta64(int(0.01*1000), \"ms\")\n",
    "threshold_after = np.timedelta64(int(0.01*1000), \"ms\")\n",
    "for row in images:\n",
    "    little_slice = slice(row[\"datetime\"]-threshold_before, row[\"datetime\"]+threshold_after)\n",
    "    craft_pitch, craft_roll = row['dataframe'][['PITCH', 'ROLL']][little_slice].mean()\n",
    "    wing_pitch, wing_roll = row['dataframe'][['PITCH_WING', 'ROLL_WING']][little_slice].mean()\n",
    "    image_pitch, image_roll = pr_offset_camera(wing_pitch, wing_roll, row[\"camera\"])\n",
    "    pitch_ratio = -image_pitch/fov[(\"v\", \"large\" if row[\"mat\"].shape[0] > 1000 else \"small\")]\n",
    "    row[\"horizon_inferred\"] = (pitch_ratio, 0)\n",
    "    row[\"msg\"] = f\"\\\n",
    "        Craft pitch: {craft_pitch:.2f}\\n\\\n",
    "        Craft roll: {craft_roll:.2f}\\n\\\n",
    "        Wing pitch: {wing_pitch:.2f}\\n\\\n",
    "        Wing roll: {wing_roll:.2f}\\n\\\n",
    "        Image pitch: {image_pitch:.2f}\\n\\\n",
    "        Image roll: {image_roll:.2f}\\n\\\n",
    "        Pitch ratio: {pitch_ratio:.2f}\\n\\\n",
    "        \"\n",
    "show_images(images)"
   ]
  },
  {
   "cell_type": "code",
   "execution_count": null,
   "metadata": {},
   "outputs": [],
   "source": []
  }
 ],
 "metadata": {
  "kernelspec": {
   "display_name": "Python 3.10.4 ('NOAA-new4')",
   "language": "python",
   "name": "python3"
  },
  "language_info": {
   "codemirror_mode": {
    "name": "ipython",
    "version": 3
   },
   "file_extension": ".py",
   "mimetype": "text/x-python",
   "name": "python",
   "nbconvert_exporter": "python",
   "pygments_lexer": "ipython3",
   "version": "3.10.4"
  },
  "orig_nbformat": 4,
  "vscode": {
   "interpreter": {
    "hash": "14f23bc15fa2a9b8265d1e51794e99855102cbc7e23f98bc87a194261d0b0c26"
   }
  }
 },
 "nbformat": 4,
 "nbformat_minor": 2
}
