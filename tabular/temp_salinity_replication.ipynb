{
 "cells": [
  {
   "cell_type": "markdown",
   "metadata": {},
   "source": [
    "# Temperature and Salinity Replication"
   ]
  },
  {
   "cell_type": "markdown",
   "metadata": {},
   "source": [
    "To make sure everything is working properly, we seek to reproduce Figures 11 and 12 from  _Chiodi et al., 2021_."
   ]
  },
  {
   "cell_type": "code",
   "execution_count": null,
   "metadata": {},
   "outputs": [],
   "source": [
    "%load_ext autoreload\n",
    "%autoreload 2"
   ]
  },
  {
   "cell_type": "markdown",
   "metadata": {},
   "source": [
    "Loading data:"
   ]
  },
  {
   "cell_type": "code",
   "execution_count": null,
   "metadata": {},
   "outputs": [],
   "source": [
    "import numpy as np\n",
    "import pandas as pd\n",
    "import os\n",
    "\n",
    "fnames = os.scandir(\"../tabular/temp_salinity\")\n",
    "fnames = filter(lambda f: f.is_file() and os.path.basename(f.path)[0] != \".\" and f.path[-4:] == \".csv\", fnames)\n",
    "csv_dict = {os.path.basename(f.path).split(\"_\")[0]:\n",
    "    pd.read_csv(f.path, skiprows=[1], parse_dates=[\"time\"]) for f in fnames}"
   ]
  },
  {
   "cell_type": "markdown",
   "metadata": {},
   "source": [
    "Getting the data we want:"
   ]
  },
  {
   "cell_type": "code",
   "execution_count": null,
   "metadata": {},
   "outputs": [],
   "source": [
    "fig11_start_time = pd.Timestamp(\"2019-07-17T23:00:00Z\")\n",
    "fig11_end_time = pd.Timestamp(\"2019-07-18T01:00:00Z\")\n",
    "fig11_universe = csv_dict[\"sd1036\"]\n",
    "fig11_subset = fig11_universe[(fig11_universe[\"time\"] >= fig11_start_time) & (fig11_universe[\"time\"] < fig11_end_time)]\n",
    "fig11_temp = fig11_subset[\"TEMP_CTD_RBR_MEAN\"]\n",
    "fig11_salinity = fig11_subset[\"SAL_SBE37_MEAN\"]"
   ]
  },
  {
   "cell_type": "markdown",
   "metadata": {},
   "source": [
    "Plotting:"
   ]
  },
  {
   "cell_type": "code",
   "execution_count": null,
   "metadata": {},
   "outputs": [],
   "source": [
    "import matplotlib.pyplot as plt\n",
    "\n",
    "def plot_temp_salinity(ax : plt.Axes, temp, salinity, t_range = (-2, 11), s_range = (23.75, 34.05)):\n",
    "    ax.set_ylim(t_range)\n",
    "    ax.set_xlim(s_range)\n",
    "    ax.scatter(salinity, temp, s=4)\n",
    "\n",
    "plt.figure(figsize=(8, 6))\n",
    "plot_temp_salinity(plt.gca(), fig11_temp, fig11_salinity)"
   ]
  },
  {
   "cell_type": "markdown",
   "metadata": {},
   "source": [
    "Looks good! Now let's try Figure 12:"
   ]
  },
  {
   "cell_type": "code",
   "execution_count": null,
   "metadata": {},
   "outputs": [],
   "source": [
    "fig12_start_time = pd.Timestamp(\"2019-06-01T00:00:00Z\")\n",
    "fig12_end_time = pd.Timestamp(\"2019-09-01T00:00:00Z\")\n",
    "fig12_universe = csv_dict[\"sd1036\"]\n",
    "fig12_subset = fig12_universe[(fig12_universe[\"time\"] >= fig12_start_time) & (fig12_universe[\"time\"] < fig12_end_time)]\n",
    "fig12_temp = fig12_subset[\"TEMP_CTD_RBR_MEAN\"]\n",
    "fig12_salinity = fig12_subset[\"SAL_SBE37_MEAN\"]\n",
    "\n",
    "plt.figure(figsize=(8, 6))\n",
    "plot_temp_salinity(plt.gca(), fig12_temp, fig12_salinity)"
   ]
  },
  {
   "cell_type": "markdown",
   "metadata": {},
   "source": [
    "Looks good."
   ]
  }
 ],
 "metadata": {
  "kernelspec": {
   "display_name": "Python 3.10.4 ('NOAA-new4')",
   "language": "python",
   "name": "python3"
  },
  "language_info": {
   "codemirror_mode": {
    "name": "ipython",
    "version": 3
   },
   "file_extension": ".py",
   "mimetype": "text/x-python",
   "name": "python",
   "nbconvert_exporter": "python",
   "pygments_lexer": "ipython3",
   "version": "3.10.4"
  },
  "orig_nbformat": 4,
  "vscode": {
   "interpreter": {
    "hash": "14f23bc15fa2a9b8265d1e51794e99855102cbc7e23f98bc87a194261d0b0c26"
   }
  }
 },
 "nbformat": 4,
 "nbformat_minor": 2
}
