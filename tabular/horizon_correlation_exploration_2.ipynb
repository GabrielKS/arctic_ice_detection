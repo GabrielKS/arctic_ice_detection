{
 "cells": [
  {
   "cell_type": "code",
   "execution_count": null,
   "metadata": {},
   "outputs": [],
   "source": [
    "%load_ext autoreload\n",
    "%autoreload 2"
   ]
  },
  {
   "cell_type": "code",
   "execution_count": null,
   "metadata": {},
   "outputs": [],
   "source": [
    "import os\n",
    "import xarray as xr\n",
    "from datetime import datetime\n",
    "import cv2\n",
    "import tabular.subset_by_images\n",
    "import matplotlib.pyplot as plt\n",
    "import cv_experiments.cv_common as cc\n",
    "import numpy as np\n",
    "import pandas as pd"
   ]
  },
  {
   "cell_type": "code",
   "execution_count": null,
   "metadata": {},
   "outputs": [],
   "source": [
    "%matplotlib inline"
   ]
  },
  {
   "cell_type": "code",
   "execution_count": null,
   "metadata": {},
   "outputs": [],
   "source": [
    "image_to_boat = lambda fname: os.path.basename(fname).split('_')[0].split('-')[1]\n",
    "image_to_datetime = lambda fname: np.datetime64(tabular.subset_by_images.image_to_datetime(fname))\n",
    "image_to_camera = lambda fname: os.path.splitext(os.path.basename(fname))[0].split('_')[2].split('-')[1]"
   ]
  },
  {
   "cell_type": "code",
   "execution_count": null,
   "metadata": {},
   "outputs": [],
   "source": [
    "def pr2line(pr, shape):\n",
    "    pitch_slope,roll_slope = pr\n",
    "    height,width = shape[:2]\n",
    "    y0 = height*(0.5-pitch_slope)\n",
    "    yoffset = -roll_slope*width/2\n",
    "    return (0, int(y0-yoffset)), (width, int(y0+yoffset))\n",
    "\n",
    "def show_images(images):\n",
    "    for row in images:\n",
    "        lat, lon = None, None\n",
    "        if \"dataframe\" in row:\n",
    "            lat, lon = row[\"dataframe\"][[\"latitude\", \"longitude\"]].mean()\n",
    "        print(f\"{row['boat']} at {pd.to_datetime(row['datetime']):%Y-%m-%d %H:%M:%S}, {f'lat={lat:.3f}, lon={lon:.3f}, ' if lat and lon else ''}camera {row['camera']}:\")\n",
    "        if \"msg\" in row: print(row[\"msg\"])\n",
    "        img = cv2.cvtColor(row[\"mat\"], cv2.COLOR_GRAY2RGB)\n",
    "        if \"horizon_inferred\" in row:\n",
    "            c1,c2 = pr2line(row[\"horizon_inferred\"], img.shape)\n",
    "            cv2.line(img, c1, c2, (0, 0, 255), 3, cv2.LINE_AA)\n",
    "        if \"horizon_manual\" in row:\n",
    "            c1,c2 = pr2line(row[\"horizon_manual\"], img.shape)\n",
    "            cv2.line(img, c1, c2, (255, 0, 0), 3, cv2.LINE_AA)\n",
    "        plt.imshow(img, vmin=0, vmax=255)\n",
    "        plt.show()"
   ]
  },
  {
   "cell_type": "code",
   "execution_count": null,
   "metadata": {},
   "outputs": [],
   "source": [
    "horizon_table = pd.read_csv(\"../tabular/horizons/horizons.csv\")\n",
    "images = []\n",
    "for _,row in horizon_table.iterrows():\n",
    "    path = os.path.join(\"../to_be_horizoned\", row[\"filename\"])\n",
    "    this_img = {\n",
    "        \"boat\": image_to_boat(path),\n",
    "        \"datetime\": image_to_datetime(path),\n",
    "        \"camera\": image_to_camera(path),\n",
    "        \"mat\": cc.get_image(path),\n",
    "        \"horizon_manual\": (row[\"pitchFrac\"], row[\"rollSlope\"])\n",
    "        }\n",
    "    images.append(this_img)\n",
    "show_images(images[:1])  # Sanity check"
   ]
  },
  {
   "cell_type": "code",
   "execution_count": null,
   "metadata": {},
   "outputs": [],
   "source": [
    "excerpt_to_boat = lambda fname: os.path.splitext(os.path.basename(fname))[0].split('_')[1]\n",
    "excerpt_paths = sorted(f.path for f in os.scandir(\"../tabular/excerpts\") if f.is_file() and os.path.basename(f.path)[0] != '.')\n",
    "excerpts = {excerpt_to_boat(fname): xr.load_dataset(fname) for fname in excerpt_paths}"
   ]
  },
  {
   "cell_type": "code",
   "execution_count": null,
   "metadata": {},
   "outputs": [],
   "source": [
    "wide_time = np.timedelta64(10, \"s\")\n",
    "relevant_variables = [\"ROLL\", \"PITCH\", \"HDG\", \"ROLL_WING\", \"PITCH_WING\", \"HDG_WING\", \"WING_ANGLE\", \"latitude\", \"longitude\"]\n",
    "\n",
    "for row in images:\n",
    "    timeslice = slice(row[\"datetime\"]-wide_time, row[\"datetime\"]+wide_time)\n",
    "    row[\"dataframe\"] = excerpts[row[\"boat\"]].sel(time=timeslice).to_dataframe()[relevant_variables]\n",
    "show_images(images[:1])"
   ]
  },
  {
   "cell_type": "code",
   "execution_count": null,
   "metadata": {},
   "outputs": [],
   "source": [
    "# Let's make some plots!\n",
    "# x-axes are wing pitch, wing roll, etc.\n",
    "# y-axes are observed roll\n",
    "# One series per (boat, camera) combination\n",
    "\n",
    "narrow_time_before = np.timedelta64(int(0.0*1000), \"ms\")\n",
    "narrow_time_after = np.timedelta64(int(0.25*1000), \"ms\")\n",
    "combos = [(b, c) for b in set(row[\"boat\"] for row in images) for c in set(row[\"camera\"] for row in images)]\n",
    "print(combos)\n",
    "def do_plot(x_var, y_var):\n",
    "    yi = {\"pitchFrac\": 0, \"rollSlope\": 1}[y_var]\n",
    "    for k in combos:\n",
    "        boat, camera = k\n",
    "        relevant = filter(lambda row: row[\"boat\"] == boat and row[\"camera\"] == camera, images)\n",
    "        x,y = zip(*[(row[\"dataframe\"][x_var][slice(row[\"datetime\"]-narrow_time_before, row[\"datetime\"]+narrow_time_after)].mean(), row[\"horizon_manual\"][yi]) for row in relevant])\n",
    "        plt.scatter(x, y, s=3, label=k)\n",
    "        plt.xlabel(x_var)\n",
    "        plt.ylabel(y_var)\n",
    "    plt.legend()\n",
    "    plt.show()\n",
    "do_plot(\"PITCH_WING\", \"rollSlope\")\n",
    "do_plot(\"ROLL_WING\", \"rollSlope\")\n",
    "do_plot(\"PITCH_WING\", \"pitchFrac\")\n",
    "do_plot(\"ROLL_WING\", \"pitchFrac\")\n",
    "do_plot(\"WING_ANGLE\", \"rollSlope\")\n",
    "do_plot(\"WING_ANGLE\", \"pitchFrac\")"
   ]
  },
  {
   "cell_type": "code",
   "execution_count": null,
   "metadata": {},
   "outputs": [],
   "source": []
  }
 ],
 "metadata": {
  "kernelspec": {
   "display_name": "Python 3.10.4 ('NOAA-new4')",
   "language": "python",
   "name": "python3"
  },
  "language_info": {
   "codemirror_mode": {
    "name": "ipython",
    "version": 3
   },
   "file_extension": ".py",
   "mimetype": "text/x-python",
   "name": "python",
   "nbconvert_exporter": "python",
   "pygments_lexer": "ipython3",
   "version": "3.10.4"
  },
  "orig_nbformat": 4,
  "vscode": {
   "interpreter": {
    "hash": "14f23bc15fa2a9b8265d1e51794e99855102cbc7e23f98bc87a194261d0b0c26"
   }
  }
 },
 "nbformat": 4,
 "nbformat_minor": 2
}
