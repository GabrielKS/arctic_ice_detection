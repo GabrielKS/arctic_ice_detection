{
 "cells": [
  {
   "cell_type": "code",
   "execution_count": null,
   "metadata": {},
   "outputs": [],
   "source": [
    "\"\"\"\n",
    "One more time: this time our approach is to create histograms of relevant IMU data, extract the values at the peaks,\n",
    "find the images that were taken while those values were observed, and inspect for similarities.\n",
    "\"\"\"\n",
    "\n",
    "import os\n",
    "import xarray as xr\n",
    "import tabular.subset_by_images\n",
    "import matplotlib.pyplot as plt\n",
    "import numpy as np\n",
    "\n",
    "narrow_time_before = np.timedelta64(int(0.0*1000), \"ms\")  # Amount of time before the image timestamp to reach to compute IMU average\n",
    "narrow_time_after = np.timedelta64(int(0.25*1000), \"ms\")  # Same as above but after; the average is across this range\n",
    "\n",
    "input_dir = os.path.abspath(\"../arctic_images\")\n",
    "wide_time = np.timedelta64(10, \"s\")\n",
    "relevant_variables = [\"ROLL\", \"PITCH\", \"ROLL_WING\", \"PITCH_WING\", \"WING_ANGLE\"]\n",
    "\n",
    "image_to_boat = lambda fname: os.path.basename(fname).split('_')[0].split('-')[1]\n",
    "image_to_datetime = lambda fname: np.datetime64(tabular.subset_by_images.image_to_datetime(fname))\n",
    "image_to_camera = lambda fname: os.path.splitext(os.path.basename(fname))[0].split('_')[2].split('-')[1]\n",
    "excerpt_to_boat = lambda fname: os.path.splitext(os.path.basename(fname))[0].split('_')[1]\n"
   ]
  },
  {
   "cell_type": "code",
   "execution_count": null,
   "metadata": {},
   "outputs": [],
   "source": [
    "all_filenames = [os.path.join(f[0], g) for f in os.walk(input_dir) for g in f[2]]\n",
    "all_filenames = sorted(filter((lambda f: os.path.isfile(f) and os.path.basename(f)[0] != '.'), all_filenames))\n",
    "all_images = []\n",
    "excerpt_paths = sorted(f.path for f in os.scandir(\"../tabular/excerpts\") if f.is_file() and os.path.basename(f.path)[0] != '.')\n",
    "excerpts = {excerpt_to_boat(fname): xr.load_dataset(fname) for fname in excerpt_paths}\n",
    "for fname in all_filenames:\n",
    "    try: datetime = image_to_datetime(fname)\n",
    "    # Some of our input filenames don't have dates in them; this is a quick and dirty way to skip them\n",
    "    except IndexError: continue\n",
    "    boat = image_to_boat(fname)\n",
    "    # Some of our boats don't have tabluar data; skip them too\n",
    "    if boat not in excerpts.keys(): continue\n",
    "    all_images.append({\"boat\": boat, \"datetime\": datetime, \"camera\": image_to_camera(fname), \"path\": fname})\n",
    "print(f\"Found {len(all_images)} images\")\n"
   ]
  },
  {
   "cell_type": "code",
   "execution_count": null,
   "metadata": {},
   "outputs": [],
   "source": [
    "for row in all_images:\n",
    "   timeslice = slice(row[\"datetime\"]-wide_time, row[\"datetime\"]+wide_time)\n",
    "   row[\"dataframe\"] = excerpts[row[\"boat\"]].sel(time=timeslice).to_dataframe()[relevant_variables]"
   ]
  },
  {
   "cell_type": "code",
   "execution_count": null,
   "metadata": {},
   "outputs": [],
   "source": [
    "row = all_images[0]\n",
    "print(row[\"dataframe\"][\"PITCH_WING\"][slice(row[\"datetime\"]-narrow_time_before, row[\"datetime\"]+narrow_time_after)])"
   ]
  },
  {
   "cell_type": "code",
   "execution_count": null,
   "metadata": {},
   "outputs": [],
   "source": [
    "full_boats = sorted(set(excerpts.keys()) & set(image[\"boat\"] for image in all_images))\n",
    "images_for_boat = {boat: list(filter(lambda image: image[\"boat\"] == boat, all_images)) for boat in full_boats}\n",
    "\n",
    "def do_histogram(iv, xrange, nbins):\n",
    "    for boat in sorted(full_boats, key=lambda boat: len(images_for_boat[boat]), reverse=True):\n",
    "        x = [image[\"dataframe\"][iv][slice(image[\"datetime\"]-narrow_time_before, image[\"datetime\"]+narrow_time_after)].mean() for image in images_for_boat[boat]]\n",
    "        x = list(filter(lambda v: xrange[0] <= v < xrange[1], x))  # Crop to the most useful range\n",
    "        plt.hist(x, bins=nbins, alpha=0.75, label=boat)\n",
    "    plt.legend()\n",
    "    plt.xlabel(iv)\n",
    "    if nbins > 50:\n",
    "        plt.gca().xaxis.set_major_locator(plt.MultipleLocator((xrange[1]-xrange[0])/nbins*5))\n",
    "    else:\n",
    "        plt.gca().xaxis.set_major_locator(plt.MultipleLocator((xrange[1]-xrange[0])/nbins*2))\n",
    "    plt.rcParams[\"figure.figsize\"] = (20, 6)\n",
    "    plt.show()\n",
    "\n",
    "do_histogram(\"PITCH_WING\", (-2, 2), 100)\n",
    "do_histogram(\"ROLL_WING\", (-4, 4), 100)\n",
    "\n",
    "do_histogram(\"PITCH_WING\", (-2, 2), 50)\n",
    "do_histogram(\"ROLL_WING\", (-4, 4), 50)"
   ]
  },
  {
   "cell_type": "code",
   "execution_count": null,
   "metadata": {},
   "outputs": [],
   "source": [
    "import shutil\n",
    "\n",
    "def get_relevant_images(boat, camera, iv, xrange, output_dir=os.path.abspath(\"../representatives/histogram\")):\n",
    "    print(boat)\n",
    "    print(iv)\n",
    "    print(xrange)\n",
    "    subdir = os.path.join(output_dir, f\"boat_{boat}-camera_{camera}-var_{iv}-range_{xrange[0]}_{xrange[1]}\")\n",
    "    if os.path.exists(subdir):\n",
    "        print(\"Directory already exists. Stopping.\")\n",
    "        return\n",
    "    relevant_images = list(filter((lambda image: xrange[0] <= image[\"dataframe\"][iv][slice(image[\"datetime\"]-narrow_time_before, image[\"datetime\"]+narrow_time_after)].mean() < xrange[1] and image[\"camera\"] == camera), images_for_boat[boat]))\n",
    "    print(f\"{len(relevant_images)} relevant images\")\n",
    "    print(f\"Saving images to {subdir}\")\n",
    "    os.mkdir(subdir)\n",
    "    for image in relevant_images:\n",
    "        shutil.copy2(image[\"path\"], os.path.join(subdir, os.path.basename(image[\"path\"])))\n",
    "\n",
    "get_relevant_images(full_boats[1], \"2\", \"PITCH_WING\", (-0.4, -0.35))\n",
    "get_relevant_images(full_boats[1], \"2\", \"PITCH_WING\", (0.6, 0.7))\n",
    "get_relevant_images(full_boats[1], \"2\", \"PITCH_WING\", (-1.9, -1.8))\n",
    "get_relevant_images(full_boats[1], \"2\", \"PITCH_WING\", (1.8, 1.9))\n",
    "get_relevant_images(full_boats[1], \"2\", \"ROLL_WING\", (-3.1, -3.0))\n",
    "get_relevant_images(full_boats[1], \"2\", \"ROLL_WING\", (1.4, 1.5))"
   ]
  },
  {
   "cell_type": "code",
   "execution_count": null,
   "metadata": {},
   "outputs": [],
   "source": []
  }
 ],
 "metadata": {
  "kernelspec": {
   "display_name": "Python 3.10.4 ('NOAA-new4')",
   "language": "python",
   "name": "python3"
  },
  "language_info": {
   "codemirror_mode": {
    "name": "ipython",
    "version": 3
   },
   "file_extension": ".py",
   "mimetype": "text/x-python",
   "name": "python",
   "nbconvert_exporter": "python",
   "pygments_lexer": "ipython3",
   "version": "3.10.4"
  },
  "orig_nbformat": 4,
  "vscode": {
   "interpreter": {
    "hash": "14f23bc15fa2a9b8265d1e51794e99855102cbc7e23f98bc87a194261d0b0c26"
   }
  }
 },
 "nbformat": 4,
 "nbformat_minor": 2
}
